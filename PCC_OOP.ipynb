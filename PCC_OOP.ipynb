{
  "nbformat": 4,
  "nbformat_minor": 0,
  "metadata": {
    "colab": {
      "name": "PCC_OOP.ipynb",
      "version": "0.3.2",
      "provenance": []
    },
    "kernelspec": {
      "name": "python3",
      "display_name": "Python 3"
    }
  },
  "cells": [
    {
      "metadata": {
        "id": "fwhSpKU_5KwS",
        "colab_type": "text"
      },
      "cell_type": "markdown",
      "source": [
        "# Object Oriented Programming in Python"
      ]
    },
    {
      "metadata": {
        "id": "OMQJC2JF3978",
        "colab_type": "text"
      },
      "cell_type": "markdown",
      "source": [
        "## Python Classes/Objects\n",
        "Python is an object oriented programming language.  \n",
        "A Class is like an object constructor, or a \"blueprint\" for creating objects."
      ]
    },
    {
      "metadata": {
        "id": "8fwmByjR33Wu",
        "colab_type": "code",
        "colab": {
          "base_uri": "https://localhost:8080/",
          "height": 51
        },
        "outputId": "54691b48-f8fb-4690-a1ac-4c758ef87269"
      },
      "cell_type": "code",
      "source": [
        "#Create a class Dog with property/attribute/variable age & function/behaviour/Object Method bark. \n",
        "class Dog:\n",
        "  age = 5\n",
        "  def bark(self):\n",
        "    print(\"woof\")\n",
        "  \n",
        "  \n",
        "#Create a new object of class Dog\n",
        "rocky = Dog()\n",
        "\n",
        "#Access property/attribute/variable age\n",
        "print(\"My age is \",rocky.age)\n",
        "\n",
        "#Access function/behaviour/Object Method bark.\n",
        "rocky.bark()"
      ],
      "execution_count": 6,
      "outputs": [
        {
          "output_type": "stream",
          "text": [
            "My age is  5\n",
            "woof\n"
          ],
          "name": "stdout"
        }
      ]
    },
    {
      "metadata": {
        "id": "wJ-LBVA65FvX",
        "colab_type": "text"
      },
      "cell_type": "markdown",
      "source": [
        "## The `__init__()` Function\n",
        "All classes have a function called `__init__()`, which is always executed when the class is being initiated.\n",
        "\n",
        "Use the `__init__()` function to assign values to object properties, or other operations that are necessary to do when the object is being created:"
      ]
    },
    {
      "metadata": {
        "id": "3Rj8oHPo4OIm",
        "colab_type": "code",
        "colab": {
          "base_uri": "https://localhost:8080/",
          "height": 51
        },
        "outputId": "a767d94d-b2fc-446f-fd97-7f3bb45f5471"
      },
      "cell_type": "code",
      "source": [
        "class Dog:\n",
        "  # Init function will initialize the variables of the class  \n",
        "  def __init__(self, name, age):\n",
        "    self.name = name\n",
        "    self.age = age\n",
        "  \n",
        "  def bark(self):\n",
        "    print(\"woof\")\n",
        "    \n",
        "    \n",
        "#Create a new object of class Dog and pass init parameters\n",
        "rocky = Dog(\"Rocky\",5)\n",
        "blacky = Dog(\"Blacky\",3)\n",
        "\n",
        "print(rocky.name,\" is \",rocky.age)\n",
        "print(blacky.name,\" is \",blacky.age)"
      ],
      "execution_count": 7,
      "outputs": [
        {
          "output_type": "stream",
          "text": [
            "Rocky  is  5\n",
            "Blacky  is  3\n"
          ],
          "name": "stdout"
        }
      ]
    },
    {
      "metadata": {
        "id": "6wt5Pp726Xp9",
        "colab_type": "text"
      },
      "cell_type": "markdown",
      "source": [
        "## The `self` Parameter\n",
        "The `self` parameter is a reference to the class itself, and is used to access variables that belongs to the class.\n",
        "\n",
        "It does not have to be named self , you can call it whatever you like, **but it has to be the first parameter of any function in the class:**"
      ]
    },
    {
      "metadata": {
        "id": "iQD6PBsw61mw",
        "colab_type": "text"
      },
      "cell_type": "markdown",
      "source": [
        "## Delete object properties and Objects using `del` syntax"
      ]
    },
    {
      "metadata": {
        "id": "tA0bMzre6Lmj",
        "colab_type": "code",
        "colab": {
          "base_uri": "https://localhost:8080/",
          "height": 249
        },
        "outputId": "a824d643-124c-425b-e818-815b6a3909ea"
      },
      "cell_type": "code",
      "source": [
        "class Dog:\n",
        "  # Init function will initialize the variables of the class  \n",
        "  def __init__(self, name, age):\n",
        "    self.name = name\n",
        "    self.age = age\n",
        "  \n",
        "  def bark(self):\n",
        "    print(\"woof\")\n",
        "    \n",
        "rocky = Dog(\"Rocky\",5)\n",
        "print(rocky.age)  # Works\n",
        "del rocky.age\n",
        "print(rocky.age)  # Fails as its deleted\n",
        "\n",
        "# delete the object similarly\n",
        "del rocky"
      ],
      "execution_count": 11,
      "outputs": [
        {
          "output_type": "stream",
          "text": [
            "5\n"
          ],
          "name": "stdout"
        },
        {
          "output_type": "error",
          "ename": "AttributeError",
          "evalue": "ignored",
          "traceback": [
            "\u001b[0;31m---------------------------------------------------------------------------\u001b[0m",
            "\u001b[0;31mAttributeError\u001b[0m                            Traceback (most recent call last)",
            "\u001b[0;32m<ipython-input-11-9d1457dff94f>\u001b[0m in \u001b[0;36m<module>\u001b[0;34m()\u001b[0m\n\u001b[1;32m     11\u001b[0m \u001b[0mprint\u001b[0m\u001b[0;34m(\u001b[0m\u001b[0mrocky\u001b[0m\u001b[0;34m.\u001b[0m\u001b[0mage\u001b[0m\u001b[0;34m)\u001b[0m  \u001b[0;31m# Works\u001b[0m\u001b[0;34m\u001b[0m\u001b[0;34m\u001b[0m\u001b[0m\n\u001b[1;32m     12\u001b[0m \u001b[0;32mdel\u001b[0m \u001b[0mrocky\u001b[0m\u001b[0;34m.\u001b[0m\u001b[0mage\u001b[0m\u001b[0;34m\u001b[0m\u001b[0;34m\u001b[0m\u001b[0m\n\u001b[0;32m---> 13\u001b[0;31m \u001b[0mprint\u001b[0m\u001b[0;34m(\u001b[0m\u001b[0mrocky\u001b[0m\u001b[0;34m.\u001b[0m\u001b[0mage\u001b[0m\u001b[0;34m)\u001b[0m  \u001b[0;31m# Fails as its deleted\u001b[0m\u001b[0;34m\u001b[0m\u001b[0;34m\u001b[0m\u001b[0m\n\u001b[0m\u001b[1;32m     14\u001b[0m \u001b[0;34m\u001b[0m\u001b[0m\n\u001b[1;32m     15\u001b[0m \u001b[0;31m# delete the object similarly\u001b[0m\u001b[0;34m\u001b[0m\u001b[0;34m\u001b[0m\u001b[0;34m\u001b[0m\u001b[0m\n",
            "\u001b[0;31mAttributeError\u001b[0m: 'Dog' object has no attribute 'age'"
          ]
        }
      ]
    },
    {
      "metadata": {
        "id": "hn8W1XEm7b6-",
        "colab_type": "text"
      },
      "cell_type": "markdown",
      "source": [
        "## Difference between CLASS ATTRIBUTE and INSTANCE ATTRIBUTE\n",
        "\n",
        "Class attribute does not get initialized and are same for all objects. Object/Instance attributes get initialized in `__init__()` funtion."
      ]
    },
    {
      "metadata": {
        "id": "ywgc1Yhq6wOm",
        "colab_type": "code",
        "colab": {}
      },
      "cell_type": "code",
      "source": [
        "class Dog:\n",
        "\n",
        "    # Class Attribute\n",
        "    species = 'mammal'\n",
        "\n",
        "    # Initializer / Object / Instance Attributes\n",
        "    def __init__(self, name, age):\n",
        "        self.name = name\n",
        "        self.age = age"
      ],
      "execution_count": 0,
      "outputs": []
    },
    {
      "metadata": {
        "id": "FU5sqTng8L3q",
        "colab_type": "text"
      },
      "cell_type": "markdown",
      "source": [
        "## Inheritance\n",
        "\n",
        "We basically inherit/extend the properties(attributes) and functions(behaviours) of the parent "
      ]
    },
    {
      "metadata": {
        "id": "Ys9ETjfd7xiI",
        "colab_type": "code",
        "colab": {
          "base_uri": "https://localhost:8080/",
          "height": 68
        },
        "outputId": "b15e3fe2-3996-4369-fdbe-1e2ceec27f59"
      },
      "cell_type": "code",
      "source": [
        "# Define parent class with basic property and behaviour\n",
        "class Dog:\n",
        "\n",
        "    def __init__(self, name, age):\n",
        "        self.name = name\n",
        "        self.age = age\n",
        "        \n",
        "    def bark(self):\n",
        "      print(\"woof\")\n",
        "      \n",
        "\n",
        "      \n",
        "# Define sub/child class which extends/Inherits Dog class.\n",
        "class Pug(Dog):\n",
        "    def run(self, time):\n",
        "        print(self.name,\" ran for \",time,\" minutes\")\n",
        "\n",
        "        \n",
        "        \n",
        "        \n",
        "        \n",
        "        \n",
        "#Create object of child/sub class        \n",
        "casper = Pug(\"Casper\",3)\n",
        "\n",
        "# We can access parent property/attribute\n",
        "print(casper.age)\n",
        "\n",
        "# We can access parent function/behaviour\n",
        "casper.bark()\n",
        "\n",
        "# We can alse access child function/behaviour\n",
        "casper.run(10)\n"
      ],
      "execution_count": 16,
      "outputs": [
        {
          "output_type": "stream",
          "text": [
            "3\n",
            "woof\n",
            "Casper  ran for  10  minutes\n"
          ],
          "name": "stdout"
        }
      ]
    },
    {
      "metadata": {
        "id": "bjGz0hAi-qfj",
        "colab_type": "text"
      },
      "cell_type": "markdown",
      "source": [
        "## Overriding\n",
        " child classes can  override attributes and behaviors from the parent class."
      ]
    },
    {
      "metadata": {
        "id": "SHOk8UMW-BHM",
        "colab_type": "code",
        "colab": {
          "base_uri": "https://localhost:8080/",
          "height": 85
        },
        "outputId": "c4043074-011b-4462-812f-ce07f23d6631"
      },
      "cell_type": "code",
      "source": [
        "class Dog:\n",
        "  numberOfLegs = 4\n",
        "  def bark(self):\n",
        "    print(\"woof\")\n",
        "  \n",
        "#child class overrides the parent attibute/property\n",
        "class SickDog(Dog):\n",
        "  numberOfLegs = 3\n",
        "  def bark(self):\n",
        "    print(\"woooooooo\")\n",
        "  \n",
        "casper = Dog()\n",
        "sickCasper = SickDog()\n",
        "\n",
        "print(casper.numberOfLegs)\n",
        "print(sickCasper.numberOfLegs)\n",
        "\n",
        "casper.bark()\n",
        "sickCasper.bark()"
      ],
      "execution_count": 20,
      "outputs": [
        {
          "output_type": "stream",
          "text": [
            "4\n",
            "3\n",
            "woof\n",
            "woooooooo\n"
          ],
          "name": "stdout"
        }
      ]
    },
    {
      "metadata": {
        "id": "-TedTCJn-_hh",
        "colab_type": "code",
        "colab": {}
      },
      "cell_type": "code",
      "source": [
        ""
      ],
      "execution_count": 0,
      "outputs": []
    }
  ]
}