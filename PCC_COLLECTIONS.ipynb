{
  "nbformat": 4,
  "nbformat_minor": 0,
  "metadata": {
    "colab": {
      "name": "PCC_COLLECTIONS.ipynb",
      "version": "0.3.2",
      "provenance": []
    },
    "kernelspec": {
      "name": "python3",
      "display_name": "Python 3"
    }
  },
  "cells": [
    {
      "metadata": {
        "id": "F-bxCVL4bU5E",
        "colab_type": "text"
      },
      "cell_type": "markdown",
      "source": [
        "# Python Collections\n",
        "There are four collection data types in the Python programming language:\n",
        "\n",
        "\n",
        "*   **List** is a collection which is **ordered and changeable**. Allows duplicate members\n",
        "*   **Tuple** is a collection which is **ordered and unchangeable**. Allows duplicate members.\n",
        "*  **Set** is a collection which is **unordered and unindexed**. No duplicate members.\n",
        "*  **Dictionary** is a collection which is **unordered, changeable and indexed**. No duplicate members.\n",
        "\n"
      ]
    },
    {
      "metadata": {
        "id": "tuBxhQtDcBgP",
        "colab_type": "text"
      },
      "cell_type": "markdown",
      "source": [
        "# List"
      ]
    },
    {
      "metadata": {
        "id": "eVoP-pwBb18p",
        "colab_type": "text"
      },
      "cell_type": "markdown",
      "source": [
        "### Loop Through a List"
      ]
    },
    {
      "metadata": {
        "id": "Bab8eJ2NbRWe",
        "colab_type": "code",
        "colab": {
          "base_uri": "https://localhost:8080/",
          "height": 68
        },
        "outputId": "e2028599-c3d3-46a3-8843-123cb65f5e37"
      },
      "cell_type": "code",
      "source": [
        "thislist = [\"apple\", \"banana\", \"cherry\"]\n",
        "for x in thislist:\n",
        "  print(x)"
      ],
      "execution_count": 1,
      "outputs": [
        {
          "output_type": "stream",
          "text": [
            "apple\n",
            "banana\n",
            "cherry\n"
          ],
          "name": "stdout"
        }
      ]
    },
    {
      "metadata": {
        "id": "hzeUc27Eb8Wn",
        "colab_type": "text"
      },
      "cell_type": "markdown",
      "source": [
        "### Check if Item Exists"
      ]
    },
    {
      "metadata": {
        "id": "M5ttG67hb4DB",
        "colab_type": "code",
        "colab": {
          "base_uri": "https://localhost:8080/",
          "height": 34
        },
        "outputId": "4e611800-feba-4d02-aeac-9164986743ce"
      },
      "cell_type": "code",
      "source": [
        "thislist = [\"apple\", \"banana\", \"cherry\"]\n",
        "if \"apple\" in thislist:\n",
        "  print(\"Yes, 'apple' is in the fruits list\")"
      ],
      "execution_count": 2,
      "outputs": [
        {
          "output_type": "stream",
          "text": [
            "Yes, 'apple' is in the fruits list\n"
          ],
          "name": "stdout"
        }
      ]
    },
    {
      "metadata": {
        "id": "FawAhaNkcGze",
        "colab_type": "text"
      },
      "cell_type": "markdown",
      "source": [
        "### List Length"
      ]
    },
    {
      "metadata": {
        "id": "CXjvixVob-Rq",
        "colab_type": "code",
        "colab": {
          "base_uri": "https://localhost:8080/",
          "height": 34
        },
        "outputId": "d8162ed2-31ce-489d-d347-f02670780a39"
      },
      "cell_type": "code",
      "source": [
        "thislist = [\"apple\", \"banana\", \"cherry\"]\n",
        "print(len(thislist))"
      ],
      "execution_count": 3,
      "outputs": [
        {
          "output_type": "stream",
          "text": [
            "3\n"
          ],
          "name": "stdout"
        }
      ]
    },
    {
      "metadata": {
        "id": "uMTkcMxbcNgm",
        "colab_type": "text"
      },
      "cell_type": "markdown",
      "source": [
        "### Append to list - end"
      ]
    },
    {
      "metadata": {
        "id": "_FN7Ci-jcJRo",
        "colab_type": "code",
        "colab": {
          "base_uri": "https://localhost:8080/",
          "height": 34
        },
        "outputId": "4b01814b-7c30-4d83-e3ca-4da16e0aa5d2"
      },
      "cell_type": "code",
      "source": [
        "thislist = [\"apple\", \"banana\", \"cherry\"]\n",
        "thislist.append(\"orange\")\n",
        "print(thislist)"
      ],
      "execution_count": 4,
      "outputs": [
        {
          "output_type": "stream",
          "text": [
            "['apple', 'banana', 'cherry', 'orange']\n"
          ],
          "name": "stdout"
        }
      ]
    },
    {
      "metadata": {
        "id": "jZzYtmuEcZdX",
        "colab_type": "text"
      },
      "cell_type": "markdown",
      "source": [
        "### Insert to list - at index"
      ]
    },
    {
      "metadata": {
        "id": "UCld1OGUcSPf",
        "colab_type": "code",
        "colab": {
          "base_uri": "https://localhost:8080/",
          "height": 34
        },
        "outputId": "fd47e974-9f5f-4cab-dee2-2a4f523a7633"
      },
      "cell_type": "code",
      "source": [
        "thislist = [\"apple\", \"banana\", \"cherry\"]\n",
        "thislist.insert(1, \"orange\")\n",
        "print(thislist)"
      ],
      "execution_count": 6,
      "outputs": [
        {
          "output_type": "stream",
          "text": [
            "['apple', 'orange', 'banana', 'cherry']\n"
          ],
          "name": "stdout"
        }
      ]
    },
    {
      "metadata": {
        "id": "jRN9BxcjcpEo",
        "colab_type": "text"
      },
      "cell_type": "markdown",
      "source": [
        "### Remove Item - end"
      ]
    },
    {
      "metadata": {
        "id": "hTxS1RxccYpd",
        "colab_type": "code",
        "colab": {
          "base_uri": "https://localhost:8080/",
          "height": 34
        },
        "outputId": "84f9813b-8357-4c78-d269-eea27e8803f9"
      },
      "cell_type": "code",
      "source": [
        "thislist = [\"apple\", \"banana\", \"cherry\"]\n",
        "thislist.pop()\n",
        "print(thislist)"
      ],
      "execution_count": 7,
      "outputs": [
        {
          "output_type": "stream",
          "text": [
            "['apple', 'banana']\n"
          ],
          "name": "stdout"
        }
      ]
    },
    {
      "metadata": {
        "id": "zjcq8Y_Ccyqb",
        "colab_type": "text"
      },
      "cell_type": "markdown",
      "source": [
        "### Remove Item - at index"
      ]
    },
    {
      "metadata": {
        "id": "RpN1xg-McwQe",
        "colab_type": "code",
        "colab": {
          "base_uri": "https://localhost:8080/",
          "height": 34
        },
        "outputId": "727675c4-a16f-4318-bcf2-1967d7c0fcd4"
      },
      "cell_type": "code",
      "source": [
        "thislist = [\"apple\", \"banana\", \"cherry\"]\n",
        "thislist.pop(1)\n",
        "print(thislist)"
      ],
      "execution_count": 8,
      "outputs": [
        {
          "output_type": "stream",
          "text": [
            "['apple', 'cherry']\n"
          ],
          "name": "stdout"
        }
      ]
    },
    {
      "metadata": {
        "id": "T_FZVxYHdFsn",
        "colab_type": "text"
      },
      "cell_type": "markdown",
      "source": [
        "### Reverse list\n"
      ]
    },
    {
      "metadata": {
        "id": "B4vvQsoLc5l7",
        "colab_type": "code",
        "colab": {
          "base_uri": "https://localhost:8080/",
          "height": 34
        },
        "outputId": "0dd02f0a-7b52-4deb-b2c5-36e3fc531e77"
      },
      "cell_type": "code",
      "source": [
        "thislist = [\"apple\", \"banana\", \"cherry\"]\n",
        "thislist.reverse()\n",
        "print(thislist)"
      ],
      "execution_count": 10,
      "outputs": [
        {
          "output_type": "stream",
          "text": [
            "['cherry', 'banana', 'apple']\n"
          ],
          "name": "stdout"
        }
      ]
    },
    {
      "metadata": {
        "id": "brHcVInjdVYC",
        "colab_type": "text"
      },
      "cell_type": "markdown",
      "source": [
        "### Sort"
      ]
    },
    {
      "metadata": {
        "id": "U3sqwTXudKMI",
        "colab_type": "code",
        "colab": {
          "base_uri": "https://localhost:8080/",
          "height": 34
        },
        "outputId": "4e4027f1-f638-4ab7-d31d-647d19931d96"
      },
      "cell_type": "code",
      "source": [
        "thislist = [\"cherry\",\"apple\", \"banana\"]\n",
        "\n",
        "# Sort by ascending by default\n",
        "thislist.sort()\n",
        "print(thislist)"
      ],
      "execution_count": 17,
      "outputs": [
        {
          "output_type": "stream",
          "text": [
            "['apple', 'banana', 'cherry']\n"
          ],
          "name": "stdout"
        }
      ]
    },
    {
      "metadata": {
        "id": "SJqPTrl-dbpu",
        "colab_type": "code",
        "colab": {
          "base_uri": "https://localhost:8080/",
          "height": 34
        },
        "outputId": "2295f4bf-95e9-4f7f-ca82-c5b11158c542"
      },
      "cell_type": "code",
      "source": [
        "thislist = [\"cherry\",\"apple\", \"banana\"]\n",
        "\n",
        "# Sort by descending by default\n",
        "thislist.sort(reverse=True)\n",
        "print(thislist)"
      ],
      "execution_count": 18,
      "outputs": [
        {
          "output_type": "stream",
          "text": [
            "['cherry', 'banana', 'apple']\n"
          ],
          "name": "stdout"
        }
      ]
    },
    {
      "metadata": {
        "id": "OGlDIxitdyqt",
        "colab_type": "code",
        "colab": {
          "base_uri": "https://localhost:8080/",
          "height": 34
        },
        "outputId": "04fef2d5-9709-484c-d4ca-c828efa8d1a8"
      },
      "cell_type": "code",
      "source": [
        "# A function that returns the length of the value:\n",
        "def sortFunction(e):\n",
        "  return len(e)\n",
        "\n",
        "\n",
        "cars = ['Ford', 'Mitsubishi', 'BMW', 'VW']\n",
        "cars.sort(key=sortFunction)\n",
        "print(cars)"
      ],
      "execution_count": 22,
      "outputs": [
        {
          "output_type": "stream",
          "text": [
            "['VW', 'BMW', 'Ford', 'Mitsubishi']\n"
          ],
          "name": "stdout"
        }
      ]
    },
    {
      "metadata": {
        "id": "F6lfTuJkeLfh",
        "colab_type": "code",
        "colab": {}
      },
      "cell_type": "code",
      "source": [
        ""
      ],
      "execution_count": 0,
      "outputs": []
    },
    {
      "metadata": {
        "id": "IYpV4CyuedfC",
        "colab_type": "text"
      },
      "cell_type": "markdown",
      "source": [
        "# Tuple"
      ]
    },
    {
      "metadata": {
        "id": "9wNF90vUee2Z",
        "colab_type": "code",
        "colab": {
          "base_uri": "https://localhost:8080/",
          "height": 34
        },
        "outputId": "2fc07db4-e333-4aa9-c898-d39b04d7100e"
      },
      "cell_type": "code",
      "source": [
        "thistuple = (\"apple\", \"banana\", \"cherry\")\n",
        "print(thistuple)"
      ],
      "execution_count": 23,
      "outputs": [
        {
          "output_type": "stream",
          "text": [
            "('apple', 'banana', 'cherry')\n"
          ],
          "name": "stdout"
        }
      ]
    },
    {
      "metadata": {
        "id": "lSiqb2nwejGc",
        "colab_type": "code",
        "colab": {
          "base_uri": "https://localhost:8080/",
          "height": 34
        },
        "outputId": "ab5b4a09-7bbb-411f-f4e6-0dcff1896116"
      },
      "cell_type": "code",
      "source": [
        "thistuple = (\"apple\", \"banana\", \"cherry\")\n",
        "print(thistuple[1])"
      ],
      "execution_count": 24,
      "outputs": [
        {
          "output_type": "stream",
          "text": [
            "banana\n"
          ],
          "name": "stdout"
        }
      ]
    },
    {
      "metadata": {
        "id": "2ql1C5F1eryb",
        "colab_type": "text"
      },
      "cell_type": "markdown",
      "source": [
        "### Cannot change value of tuple or add or remove items. Tuple is immutable!!"
      ]
    },
    {
      "metadata": {
        "id": "LFCgvItxeoPu",
        "colab_type": "code",
        "colab": {
          "base_uri": "https://localhost:8080/",
          "height": 215
        },
        "outputId": "5374f167-2564-4221-8ddc-6879690ef77a"
      },
      "cell_type": "code",
      "source": [
        "thistuple = (\"apple\", \"banana\", \"cherry\")\n",
        "thistuple[1] = \"blackcurrant\"\n",
        "# The values will remain the same:\n",
        "print(thistuple)"
      ],
      "execution_count": 25,
      "outputs": [
        {
          "output_type": "error",
          "ename": "TypeError",
          "evalue": "ignored",
          "traceback": [
            "\u001b[0;31m---------------------------------------------------------------------------\u001b[0m",
            "\u001b[0;31mTypeError\u001b[0m                                 Traceback (most recent call last)",
            "\u001b[0;32m<ipython-input-25-8b5373f135ab>\u001b[0m in \u001b[0;36m<module>\u001b[0;34m()\u001b[0m\n\u001b[1;32m      1\u001b[0m \u001b[0mthistuple\u001b[0m \u001b[0;34m=\u001b[0m \u001b[0;34m(\u001b[0m\u001b[0;34m\"apple\"\u001b[0m\u001b[0;34m,\u001b[0m \u001b[0;34m\"banana\"\u001b[0m\u001b[0;34m,\u001b[0m \u001b[0;34m\"cherry\"\u001b[0m\u001b[0;34m)\u001b[0m\u001b[0;34m\u001b[0m\u001b[0;34m\u001b[0m\u001b[0m\n\u001b[0;32m----> 2\u001b[0;31m \u001b[0mthistuple\u001b[0m\u001b[0;34m[\u001b[0m\u001b[0;36m1\u001b[0m\u001b[0;34m]\u001b[0m \u001b[0;34m=\u001b[0m \u001b[0;34m\"blackcurrant\"\u001b[0m\u001b[0;34m\u001b[0m\u001b[0;34m\u001b[0m\u001b[0m\n\u001b[0m\u001b[1;32m      3\u001b[0m \u001b[0;31m# The values will remain the same:\u001b[0m\u001b[0;34m\u001b[0m\u001b[0;34m\u001b[0m\u001b[0;34m\u001b[0m\u001b[0m\n\u001b[1;32m      4\u001b[0m \u001b[0mprint\u001b[0m\u001b[0;34m(\u001b[0m\u001b[0mthistuple\u001b[0m\u001b[0;34m)\u001b[0m\u001b[0;34m\u001b[0m\u001b[0;34m\u001b[0m\u001b[0m\n",
            "\u001b[0;31mTypeError\u001b[0m: 'tuple' object does not support item assignment"
          ]
        }
      ]
    },
    {
      "metadata": {
        "id": "1z5RWWukfAc7",
        "colab_type": "text"
      },
      "cell_type": "markdown",
      "source": [
        "# Set\n"
      ]
    },
    {
      "metadata": {
        "id": "TbmVW5OAeuRz",
        "colab_type": "code",
        "colab": {
          "base_uri": "https://localhost:8080/",
          "height": 34
        },
        "outputId": "b97527d2-dbdb-4720-b551-1877c1ec0b6a"
      },
      "cell_type": "code",
      "source": [
        "thisset = {\"apple\", \"banana\", \"cherry\"}\n",
        "print(thisset)"
      ],
      "execution_count": 26,
      "outputs": [
        {
          "output_type": "stream",
          "text": [
            "{'apple', 'cherry', 'banana'}\n"
          ],
          "name": "stdout"
        }
      ]
    },
    {
      "metadata": {
        "id": "71gvRFJafEKp",
        "colab_type": "code",
        "colab": {
          "base_uri": "https://localhost:8080/",
          "height": 68
        },
        "outputId": "8bca7b6c-2f71-4d37-d369-5c9cc4b29026"
      },
      "cell_type": "code",
      "source": [
        "thisset = {\"apple\", \"banana\", \"cherry\"}\n",
        "\n",
        "for x in thisset:\n",
        "  print(x)"
      ],
      "execution_count": 27,
      "outputs": [
        {
          "output_type": "stream",
          "text": [
            "apple\n",
            "cherry\n",
            "banana\n"
          ],
          "name": "stdout"
        }
      ]
    },
    {
      "metadata": {
        "id": "KEb-4QT8fXb3",
        "colab_type": "text"
      },
      "cell_type": "markdown",
      "source": [
        "### Add items"
      ]
    },
    {
      "metadata": {
        "id": "BKLXwnw8fKqp",
        "colab_type": "code",
        "colab": {
          "base_uri": "https://localhost:8080/",
          "height": 34
        },
        "outputId": "67521c5c-ec02-45ee-c5b8-cfdda58ff3e1"
      },
      "cell_type": "code",
      "source": [
        "thisset = {\"apple\", \"banana\", \"cherry\"}\n",
        "\n",
        "thisset.add(\"orange\")\n",
        "\n",
        "print(thisset)"
      ],
      "execution_count": 31,
      "outputs": [
        {
          "output_type": "stream",
          "text": [
            "{'apple', 'cherry', 'orange', 'banana'}\n"
          ],
          "name": "stdout"
        }
      ]
    },
    {
      "metadata": {
        "id": "23jymDvhgczZ",
        "colab_type": "text"
      },
      "cell_type": "markdown",
      "source": [
        "## Dict"
      ]
    },
    {
      "metadata": {
        "id": "Xzx5DELDgCWm",
        "colab_type": "code",
        "colab": {
          "base_uri": "https://localhost:8080/",
          "height": 51
        },
        "outputId": "57760f77-7498-483e-ee14-d65b9b46e704"
      },
      "cell_type": "code",
      "source": [
        "thisdict =\t{\n",
        "  \"brand\": \"Ford\",\n",
        "  \"model\": \"Mustang\",\n",
        "  \"year\": 1964\n",
        "}\n",
        "print(thisdict)\n",
        "\n",
        "print(thisdict[\"model\"])"
      ],
      "execution_count": 33,
      "outputs": [
        {
          "output_type": "stream",
          "text": [
            "{'brand': 'Ford', 'model': 'Mustang', 'year': 1964}\n",
            "Mustang\n"
          ],
          "name": "stdout"
        }
      ]
    },
    {
      "metadata": {
        "id": "-sfMTY5kghYJ",
        "colab_type": "code",
        "colab": {}
      },
      "cell_type": "code",
      "source": [
        ""
      ],
      "execution_count": 0,
      "outputs": []
    }
  ]
}