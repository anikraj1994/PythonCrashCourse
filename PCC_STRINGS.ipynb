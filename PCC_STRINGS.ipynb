{
  "nbformat": 4,
  "nbformat_minor": 0,
  "metadata": {
    "colab": {
      "name": "PCC_STRINGS.ipynb",
      "version": "0.3.2",
      "provenance": []
    },
    "kernelspec": {
      "name": "python3",
      "display_name": "Python 3"
    }
  },
  "cells": [
    {
      "metadata": {
        "id": "8PeQlF1GVOQ4",
        "colab_type": "text"
      },
      "cell_type": "markdown",
      "source": [
        "# Strings and its functions ! :D\n",
        "<img src=\"https://codingbat.com/doc/string1.png\" height=200/>"
      ]
    },
    {
      "metadata": {
        "id": "afmNr_BcVtRV",
        "colab_type": "text"
      },
      "cell_type": "markdown",
      "source": [
        "'hello' is the same as \"hello\"."
      ]
    },
    {
      "metadata": {
        "id": "Nn2_gKIBVzKr",
        "colab_type": "text"
      },
      "cell_type": "markdown",
      "source": [
        "## Get the character at position"
      ]
    },
    {
      "metadata": {
        "id": "uqiw712pITOW",
        "colab_type": "code",
        "colab": {
          "base_uri": "https://localhost:8080/",
          "height": 34
        },
        "outputId": "e0832c31-c841-48e5-f851-ed6aab790fa6"
      },
      "cell_type": "code",
      "source": [
        "string = \"anik\"\n",
        "print(string[1])"
      ],
      "execution_count": 1,
      "outputs": [
        {
          "output_type": "stream",
          "text": [
            "n\n"
          ],
          "name": "stdout"
        }
      ]
    },
    {
      "metadata": {
        "id": "1f7toolaWCG8",
        "colab_type": "text"
      },
      "cell_type": "markdown",
      "source": [
        "## Get character one by one like a list"
      ]
    },
    {
      "metadata": {
        "id": "m1QwctY-V6U_",
        "colab_type": "code",
        "colab": {
          "base_uri": "https://localhost:8080/",
          "height": 85
        },
        "outputId": "ef8d9f5f-b380-4522-843f-b7557ae3b124"
      },
      "cell_type": "code",
      "source": [
        "string = \"anik\"\n",
        "for char in string:\n",
        "  print(char)"
      ],
      "execution_count": 3,
      "outputs": [
        {
          "output_type": "stream",
          "text": [
            "a\n",
            "n\n",
            "i\n",
            "k\n"
          ],
          "name": "stdout"
        }
      ]
    },
    {
      "metadata": {
        "id": "TUNq8CrnWTQ9",
        "colab_type": "text"
      },
      "cell_type": "markdown",
      "source": [
        "## Substring"
      ]
    },
    {
      "metadata": {
        "id": "uTLDnGcbWI37",
        "colab_type": "code",
        "colab": {
          "base_uri": "https://localhost:8080/",
          "height": 119
        },
        "outputId": "2e6a2446-429a-4c18-d993-d6eb44f71938"
      },
      "cell_type": "code",
      "source": [
        "string = \"Hello, World!\"\n",
        "\n",
        "print(\"From index 2 to 5\")\n",
        "print(string[2:5]) # Like range() for loop, start is inclusive, end is exclusive\n",
        "\n",
        "print(\"From start to 5 index\")\n",
        "print(string[:5]) # Empty start\n",
        "\n",
        "print(\"From 4 to end\")\n",
        "print(string[5:]) # Empty end"
      ],
      "execution_count": 5,
      "outputs": [
        {
          "output_type": "stream",
          "text": [
            "From index 2 to 5\n",
            "llo\n",
            "From start to 5 index\n",
            "Hello\n",
            "From 4 to end\n",
            ", World!\n"
          ],
          "name": "stdout"
        }
      ]
    },
    {
      "metadata": {
        "id": "z65Q1GtbXOMr",
        "colab_type": "text"
      },
      "cell_type": "markdown",
      "source": [
        "## Strip\n",
        "Remove extra unwanted space"
      ]
    },
    {
      "metadata": {
        "id": "7eSQvkP2WYHU",
        "colab_type": "code",
        "colab": {
          "base_uri": "https://localhost:8080/",
          "height": 34
        },
        "outputId": "6d89906d-2093-41f3-8f14-6facc80020a7"
      },
      "cell_type": "code",
      "source": [
        "string = \"   Hello, World!      \"\n",
        "print(string.strip())"
      ],
      "execution_count": 6,
      "outputs": [
        {
          "output_type": "stream",
          "text": [
            "Hello, World!\n"
          ],
          "name": "stdout"
        }
      ]
    },
    {
      "metadata": {
        "id": "qEastifqXdQJ",
        "colab_type": "text"
      },
      "cell_type": "markdown",
      "source": [
        "## Length of string"
      ]
    },
    {
      "metadata": {
        "id": "cd_iKlGGXYH_",
        "colab_type": "code",
        "colab": {
          "base_uri": "https://localhost:8080/",
          "height": 34
        },
        "outputId": "1592726a-6266-45bb-ffda-bfa0defcceea"
      },
      "cell_type": "code",
      "source": [
        "string = \"Anik\"\n",
        "print(len(string))"
      ],
      "execution_count": 7,
      "outputs": [
        {
          "output_type": "stream",
          "text": [
            "4\n"
          ],
          "name": "stdout"
        }
      ]
    },
    {
      "metadata": {
        "id": "vEH_l-FVXmsO",
        "colab_type": "text"
      },
      "cell_type": "markdown",
      "source": [
        "## To lower case\n"
      ]
    },
    {
      "metadata": {
        "id": "88kiQmPkXh6d",
        "colab_type": "code",
        "colab": {
          "base_uri": "https://localhost:8080/",
          "height": 34
        },
        "outputId": "bcd2e28e-198d-4615-e223-5b54d26f2432"
      },
      "cell_type": "code",
      "source": [
        "string = \"Anik\"\n",
        "print(string.lower())"
      ],
      "execution_count": 8,
      "outputs": [
        {
          "output_type": "stream",
          "text": [
            "anik\n"
          ],
          "name": "stdout"
        }
      ]
    },
    {
      "metadata": {
        "id": "jcQw3bH8XvHv",
        "colab_type": "text"
      },
      "cell_type": "markdown",
      "source": [
        "## To Upper Case"
      ]
    },
    {
      "metadata": {
        "id": "PqviQ6sGXtoA",
        "colab_type": "code",
        "colab": {
          "base_uri": "https://localhost:8080/",
          "height": 34
        },
        "outputId": "d6a10a2f-2f20-49a8-d97d-fdc26a2f7fc5"
      },
      "cell_type": "code",
      "source": [
        "string = \"Anik\"\n",
        "print(string.upper())"
      ],
      "execution_count": 9,
      "outputs": [
        {
          "output_type": "stream",
          "text": [
            "ANIK\n"
          ],
          "name": "stdout"
        }
      ]
    },
    {
      "metadata": {
        "id": "AKKCtelpX2Gb",
        "colab_type": "text"
      },
      "cell_type": "markdown",
      "source": [
        "## Replace"
      ]
    },
    {
      "metadata": {
        "id": "7kKDXPwpXxy0",
        "colab_type": "code",
        "colab": {
          "base_uri": "https://localhost:8080/",
          "height": 34
        },
        "outputId": "4055a0a8-51b0-4ef0-a5d2-4044c7e9cc09"
      },
      "cell_type": "code",
      "source": [
        "string = \"Anik\"\n",
        "string = string.replace(\"ik\", \"na\")\n",
        "print(string)"
      ],
      "execution_count": 10,
      "outputs": [
        {
          "output_type": "stream",
          "text": [
            "Anna\n"
          ],
          "name": "stdout"
        }
      ]
    },
    {
      "metadata": {
        "id": "e24sD4SoYI-s",
        "colab_type": "text"
      },
      "cell_type": "markdown",
      "source": [
        "## Split"
      ]
    },
    {
      "metadata": {
        "id": "f9MZjGdeX_ZU",
        "colab_type": "code",
        "colab": {
          "base_uri": "https://localhost:8080/",
          "height": 34
        },
        "outputId": "e89c3712-9349-4687-df47-b6f119e64838"
      },
      "cell_type": "code",
      "source": [
        "string = \"This.IS.Awesome\"\n",
        "print(string.split(\".\"))"
      ],
      "execution_count": 15,
      "outputs": [
        {
          "output_type": "stream",
          "text": [
            "['This', 'IS', 'Awesome']\n"
          ],
          "name": "stdout"
        }
      ]
    },
    {
      "metadata": {
        "id": "1O0QuVGkYZ2k",
        "colab_type": "text"
      },
      "cell_type": "markdown",
      "source": [
        "**This can be useful for splitting paragraph to sentence. Sentences can be split by comma :D**\n"
      ]
    },
    {
      "metadata": {
        "id": "kQiViw1FYNtq",
        "colab_type": "code",
        "colab": {
          "base_uri": "https://localhost:8080/",
          "height": 54
        },
        "outputId": "73cac960-f712-46c7-aad3-b9fc2aa4889b"
      },
      "cell_type": "code",
      "source": [
        "paragraph = \"Pranchiyettan and the Saint Malayalam Movie ft Mammootty and Priyamani. Directed and produced by Ranjith and music by Ouseppachan. Pranchiyettan and the Saint also stars Innocent, Siddique, Kushboo, Jagathy Sreekumar, Ganapathy, Sasi Kalinga, Tini Tom and Biju Menon among others.\"\n",
        "print(paragraph.split(\". \"))"
      ],
      "execution_count": 18,
      "outputs": [
        {
          "output_type": "stream",
          "text": [
            "['Pranchiyettan and the Saint Malayalam Movie ft Mammootty and Priyamani', 'Directed and produced by Ranjith and music by Ouseppachan', 'Pranchiyettan and the Saint also stars Innocent, Siddique, Kushboo, Jagathy Sreekumar, Ganapathy, Sasi Kalinga, Tini Tom and Biju Menon among others.']\n"
          ],
          "name": "stdout"
        }
      ]
    },
    {
      "metadata": {
        "id": "4zRQg7S0ZKA3",
        "colab_type": "text"
      },
      "cell_type": "markdown",
      "source": [
        "# Useful functions"
      ]
    },
    {
      "metadata": {
        "id": "z4yLdF0uZTNP",
        "colab_type": "text"
      },
      "cell_type": "markdown",
      "source": [
        "## Count\n",
        "get count of substring"
      ]
    },
    {
      "metadata": {
        "id": "prtzDCOXYkrB",
        "colab_type": "code",
        "colab": {
          "base_uri": "https://localhost:8080/",
          "height": 34
        },
        "outputId": "9e7be128-7038-4ed3-aeec-18b71cfa0216"
      },
      "cell_type": "code",
      "source": [
        "txt = \"I love apples, apple are my favorite fruit\"\n",
        "\n",
        "x = txt.count(\"apple\")\n",
        "\n",
        "print(x)"
      ],
      "execution_count": 21,
      "outputs": [
        {
          "output_type": "stream",
          "text": [
            "2\n"
          ],
          "name": "stdout"
        }
      ]
    },
    {
      "metadata": {
        "id": "1bBuzxYcaAX5",
        "colab_type": "text"
      },
      "cell_type": "markdown",
      "source": [
        "## Get substring position"
      ]
    },
    {
      "metadata": {
        "id": "MJjCrX5ZZZfG",
        "colab_type": "code",
        "colab": {
          "base_uri": "https://localhost:8080/",
          "height": 34
        },
        "outputId": "06709f9d-5731-428d-bcfc-c0b051df5015"
      },
      "cell_type": "code",
      "source": [
        "txt = \"Hello, welcome to my world.\"\n",
        "\n",
        "x = txt.index(\"welcome\")\n",
        "\n",
        "print(x)"
      ],
      "execution_count": 24,
      "outputs": [
        {
          "output_type": "stream",
          "text": [
            "7\n"
          ],
          "name": "stdout"
        }
      ]
    },
    {
      "metadata": {
        "id": "Yv4P9dhmaUAG",
        "colab_type": "text"
      },
      "cell_type": "markdown",
      "source": [
        "## Check if substring exists"
      ]
    },
    {
      "metadata": {
        "id": "cdchU5e0ZvNm",
        "colab_type": "code",
        "colab": {
          "base_uri": "https://localhost:8080/",
          "height": 68
        },
        "outputId": "1d4821ea-dbc3-4e3f-d020-ae44d4481765"
      },
      "cell_type": "code",
      "source": [
        "txt = \"Hello, welcome to my world.\"\n",
        "\n",
        "if \"anik\" in txt:\n",
        "  print(\"Yes in text\")\n",
        "else:\n",
        "  print(\"Not in text\")\n",
        "  \n",
        "  \n",
        "  \n",
        "if \"welcome\" in txt:\n",
        "  print(\"Yes in text\")\n",
        "else:\n",
        "  print(\"Not in text\")\n",
        "  \n",
        "\n",
        "# We can also use `not in` instead of `in`\n",
        "if \"anik\" not in txt:\n",
        "  print(\"Not in text\")\n",
        "else:\n",
        "  print(\"Yes in text\")"
      ],
      "execution_count": 29,
      "outputs": [
        {
          "output_type": "stream",
          "text": [
            "Not in text\n",
            "Yes in text\n",
            "Not in text\n"
          ],
          "name": "stdout"
        }
      ]
    },
    {
      "metadata": {
        "id": "0lbggt5baTDy",
        "colab_type": "code",
        "colab": {}
      },
      "cell_type": "code",
      "source": [
        ""
      ],
      "execution_count": 0,
      "outputs": []
    }
  ]
}