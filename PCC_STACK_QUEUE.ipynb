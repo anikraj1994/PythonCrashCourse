{
  "nbformat": 4,
  "nbformat_minor": 0,
  "metadata": {
    "colab": {
      "name": "PCC_STACK_QUEUE.ipynb",
      "version": "0.3.2",
      "provenance": []
    },
    "kernelspec": {
      "name": "python3",
      "display_name": "Python 3"
    }
  },
  "cells": [
    {
      "metadata": {
        "id": "zKV9n2PbAoX8",
        "colab_type": "text"
      },
      "cell_type": "markdown",
      "source": [
        "# Stacks! LIFO - last in first out\n",
        "### Imagine stacking books\n",
        "<img src=\"https://cdn-images-1.medium.com/max/1600/1*kkK3EZNOzBsuwkDNvSVR9g.gif\" height=250/>\n",
        "\n",
        "Python Lists can be used as stacks\n"
      ]
    },
    {
      "metadata": {
        "id": "scTy3QTcAjFT",
        "colab_type": "code",
        "colab": {
          "base_uri": "https://localhost:8080/",
          "height": 51
        },
        "outputId": "ec00f5d4-0c80-4ca4-a794-756f8d724a23"
      },
      "cell_type": "code",
      "source": [
        "#Create a new list\n",
        "stack = []\n",
        "\n",
        "#Append 3 items in stack\n",
        "stack.append(1)\n",
        "stack.append(2)\n",
        "stack.append(3)\n",
        "\n",
        "print(stack)\n",
        "\n",
        "#Pop item from stack\n",
        "stack.pop()\n",
        "\n",
        "print(stack)\n"
      ],
      "execution_count": 4,
      "outputs": [
        {
          "output_type": "stream",
          "text": [
            "[1, 2, 3]\n",
            "[1, 2]\n"
          ],
          "name": "stdout"
        }
      ]
    },
    {
      "metadata": {
        "id": "9MzUaUofGr5r",
        "colab_type": "text"
      },
      "cell_type": "markdown",
      "source": [
        "## Lets make a stack class :D"
      ]
    },
    {
      "metadata": {
        "id": "gNduIQiLGTrI",
        "colab_type": "code",
        "colab": {
          "base_uri": "https://localhost:8080/",
          "height": 170
        },
        "outputId": "8ff6b329-9d7e-434b-f4b8-b4977c9ef14c"
      },
      "cell_type": "code",
      "source": [
        "class Stack:\n",
        "  \n",
        "  items = []\n",
        "  \n",
        "  def add(self,item):\n",
        "    self.items.append(item)\n",
        "    \n",
        "  def pop(self):\n",
        "    #Check if list is empty before removing item\n",
        "    if len(self.items) == 0:\n",
        "      return False\n",
        "    else:\n",
        "      return self.items.pop()\n",
        "    \n",
        "    \n",
        "print(\"Create new Stack\")    \n",
        "mystack = Stack()\n",
        "print(mystack.items)\n",
        "\n",
        "\n",
        "print(\"Add 3 items to Stack\")\n",
        "mystack.add(1)\n",
        "mystack.add(2)\n",
        "mystack.add(3)\n",
        "print(mystack.items)\n",
        "\n",
        "print(\"Pop top item from stack\")\n",
        "mystack.pop()\n",
        "print(mystack.items)\n",
        "\n",
        "mystack.pop()\n",
        "print(mystack.items)\n",
        "\n",
        "mystack.pop()\n",
        "print(mystack.items)\n",
        "\n",
        "mystack.pop() #Will return False since list is empty\n",
        "\n",
        "\n"
      ],
      "execution_count": 10,
      "outputs": [
        {
          "output_type": "stream",
          "text": [
            "Create new Stack\n",
            "[]\n",
            "Add 3 items to Stack\n",
            "[1, 2, 3]\n",
            "Pop top item from stack\n",
            "[1, 2]\n",
            "[1]\n",
            "[]\n"
          ],
          "name": "stdout"
        },
        {
          "output_type": "execute_result",
          "data": {
            "text/plain": [
              "False"
            ]
          },
          "metadata": {
            "tags": []
          },
          "execution_count": 10
        }
      ]
    },
    {
      "metadata": {
        "id": "VIp3JAUwIqLc",
        "colab_type": "text"
      },
      "cell_type": "markdown",
      "source": [
        "# QUEUE FIFO - first in first out\n",
        "### Imagine a ATM Queue\n",
        "<img src=\"https://i.gifer.com/P09U.gif\" height=300/>\n",
        "\n",
        "Python list can be used here also :D !\n"
      ]
    },
    {
      "metadata": {
        "id": "fwE-L9ALHa2V",
        "colab_type": "code",
        "colab": {
          "base_uri": "https://localhost:8080/",
          "height": 51
        },
        "outputId": "de66afbc-3935-4578-e70e-32f4bfc4118d"
      },
      "cell_type": "code",
      "source": [
        "#Create a new list\n",
        "queue = []\n",
        "\n",
        "#Insert 3 items to start of queue\n",
        "queue.insert(0,1)\n",
        "queue.insert(0,2)\n",
        "queue.insert(0,3)\n",
        "\n",
        "print(queue)\n",
        "\n",
        "#Pop item from end of queue\n",
        "queue.pop()\n",
        "\n",
        "print(queue)\n"
      ],
      "execution_count": 11,
      "outputs": [
        {
          "output_type": "stream",
          "text": [
            "[3, 2, 1]\n",
            "[3, 2]\n"
          ],
          "name": "stdout"
        }
      ]
    },
    {
      "metadata": {
        "id": "PYfCi-RHJ7h4",
        "colab_type": "text"
      },
      "cell_type": "markdown",
      "source": [
        "## Lets make a Queue class :D\n",
        "only one change -> **append(item)** to **insert(0,item)**"
      ]
    },
    {
      "metadata": {
        "id": "A4n06XPGJyf9",
        "colab_type": "code",
        "colab": {
          "base_uri": "https://localhost:8080/",
          "height": 170
        },
        "outputId": "80688cdb-1fc0-4452-84ec-ae34ee46dff4"
      },
      "cell_type": "code",
      "source": [
        "class Queue:\n",
        "  \n",
        "  items = []\n",
        "  \n",
        "  def add(self,item):\n",
        "    self.items.insert(0,item)\n",
        "    \n",
        "  def pop(self):\n",
        "    #Check if list is empty before removing item\n",
        "    if len(self.items) == 0:\n",
        "      return False\n",
        "    else:\n",
        "      return self.items.pop()\n",
        "    \n",
        "    \n",
        "    \n",
        "    \n",
        "print(\"Create new Queue\")    \n",
        "myqueue = Queue()\n",
        "print(myqueue.items)\n",
        "\n",
        "\n",
        "print(\"Add 3 items to start of Queue\")\n",
        "myqueue.add(1)\n",
        "myqueue.add(2)\n",
        "myqueue.add(3)\n",
        "print(myqueue.items)\n",
        "\n",
        "print(\"Pop end item from Queue\")\n",
        "myqueue.pop()\n",
        "print(myqueue.items)\n",
        "\n",
        "myqueue.pop()\n",
        "print(myqueue.items)\n",
        "\n",
        "myqueue.pop()\n",
        "print(myqueue.items)\n",
        "\n",
        "myqueue.pop() #Will return False since list is empty"
      ],
      "execution_count": 12,
      "outputs": [
        {
          "output_type": "stream",
          "text": [
            "Create new Queue\n",
            "[]\n",
            "Add 3 items to start of Queue\n",
            "[3, 2, 1]\n",
            "Pop end item from Queue\n",
            "[3, 2]\n",
            "[3]\n",
            "[]\n"
          ],
          "name": "stdout"
        },
        {
          "output_type": "execute_result",
          "data": {
            "text/plain": [
              "False"
            ]
          },
          "metadata": {
            "tags": []
          },
          "execution_count": 12
        }
      ]
    },
    {
      "metadata": {
        "id": "Bj1cr7byKhL5",
        "colab_type": "code",
        "colab": {}
      },
      "cell_type": "code",
      "source": [
        ""
      ],
      "execution_count": 0,
      "outputs": []
    }
  ]
}